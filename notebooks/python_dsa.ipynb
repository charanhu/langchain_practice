{
 "cells": [
  {
   "cell_type": "code",
   "execution_count": 1,
   "metadata": {},
   "outputs": [
    {
     "data": {
      "text/plain": [
       "'narahc mi'"
      ]
     },
     "execution_count": 1,
     "metadata": {},
     "output_type": "execute_result"
    }
   ],
   "source": [
    "# reverse string\n",
    "\n",
    "def rev(s):\n",
    "    return s[::-1]\n",
    "\n",
    "s = \"im charan\"\n",
    "rev(s)"
   ]
  },
  {
   "cell_type": "code",
   "execution_count": 2,
   "metadata": {},
   "outputs": [
    {
     "data": {
      "text/plain": [
       "False"
      ]
     },
     "execution_count": 2,
     "metadata": {},
     "output_type": "execute_result"
    }
   ],
   "source": [
    "# palindrome check\n",
    "\n",
    "def pal(s):\n",
    "    return s==s[::-1]\n",
    "\n",
    "pal(s)"
   ]
  },
  {
   "cell_type": "code",
   "execution_count": 3,
   "metadata": {},
   "outputs": [
    {
     "data": {
      "text/plain": [
       "120"
      ]
     },
     "execution_count": 3,
     "metadata": {},
     "output_type": "execute_result"
    }
   ],
   "source": [
    "# factorial\n",
    "\n",
    "def fact(n):\n",
    "    if n <= 1:\n",
    "        return 1\n",
    "    return n * fact(n-1)\n",
    "\n",
    "fact(5)"
   ]
  },
  {
   "cell_type": "code",
   "execution_count": 11,
   "metadata": {},
   "outputs": [
    {
     "name": "stdout",
     "output_type": "stream",
     "text": [
      "[1, 2, 3, 4, 5, 6]\n"
     ]
    },
    {
     "data": {
      "text/plain": [
       "5"
      ]
     },
     "execution_count": 11,
     "metadata": {},
     "output_type": "execute_result"
    }
   ],
   "source": [
    "# second highest number\n",
    "\n",
    "numbers = [1, 3, 2, 4, 4, 5, 6, 6]\n",
    "\n",
    "def sec_n(n):\n",
    "    n = list(set(n))\n",
    "    n.sort()\n",
    "    print(n)\n",
    "    return n[-2]\n",
    "\n",
    "sec_n(numbers)"
   ]
  },
  {
   "cell_type": "code",
   "execution_count": 15,
   "metadata": {},
   "outputs": [
    {
     "data": {
      "text/plain": [
       "['python', 'world']"
      ]
     },
     "execution_count": 15,
     "metadata": {},
     "output_type": "execute_result"
    }
   ],
   "source": [
    "# Question: You are given a list of strings. Write a function to filter out all strings that are palindromes.\n",
    "\n",
    "words = [\"radar\", \"python\", \"level\", \"world\"]\n",
    "\n",
    "def pal_1(w):\n",
    "    for i in w:\n",
    "        if str(i) == str(i[::-1]):\n",
    "            w.remove(i)\n",
    "    return w\n",
    "\n",
    "pal_1(words)"
   ]
  },
  {
   "cell_type": "code",
   "execution_count": 16,
   "metadata": {},
   "outputs": [
    {
     "data": {
      "text/plain": [
       "True"
      ]
     },
     "execution_count": 16,
     "metadata": {},
     "output_type": "execute_result"
    }
   ],
   "source": [
    "# Question: Given a string, write a function to check if it is an anagram of another string.\n",
    "\n",
    "# Answer: An anagram is a word or phrase formed by rearranging the letters of a different word or phrase, typically using all the original letters exactly once.\n",
    "\n",
    "def anagram(s1, s2):\n",
    "    s1, s2 = s1.strip(\" \").lower(), s2.strip(\" \").lower()\n",
    "    return sorted(s1) == sorted(s2)\n",
    "\n",
    "s_1=\"listen\"\n",
    "s_2=\"silent\"\n",
    "anagram(s_1, s_2)"
   ]
  },
  {
   "cell_type": "code",
   "execution_count": 18,
   "metadata": {},
   "outputs": [
    {
     "data": {
      "text/plain": [
       "[1, 2, 3, 4, 5, 6]"
      ]
     },
     "execution_count": 18,
     "metadata": {},
     "output_type": "execute_result"
    }
   ],
   "source": [
    "# Question: Write a function to flatten a nested list.\n",
    "\n",
    "def flatten(lst):\n",
    "    res = []\n",
    "    for i in lst:\n",
    "        if isinstance(i, list):\n",
    "            res.extend(flatten(i))\n",
    "        else:\n",
    "            res.append(i)\n",
    "    return res\n",
    "\n",
    "nested_list = [1, [2, 3, [4, 5]], 6]\n",
    "flatten(nested_list)"
   ]
  },
  {
   "cell_type": "code",
   "execution_count": 24,
   "metadata": {},
   "outputs": [
    {
     "data": {
      "text/plain": [
       "[4, 5]"
      ]
     },
     "execution_count": 24,
     "metadata": {},
     "output_type": "execute_result"
    }
   ],
   "source": [
    "# 6. Question: Given two lists, write a function that returns the elements that are common to both lists.\n",
    "\n",
    "list1 = [1, 2, 3, 4, 5]\n",
    "list2 = [4, 5, 6, 7, 8]\n",
    "\n",
    "def common(l1, l2):\n",
    "    return list(set(l1).intersection(l2))\n",
    "\n",
    "common(list1, list2)"
   ]
  },
  {
   "cell_type": "code",
   "execution_count": 26,
   "metadata": {},
   "outputs": [
    {
     "data": {
      "text/plain": [
       "5"
      ]
     },
     "execution_count": 26,
     "metadata": {},
     "output_type": "execute_result"
    }
   ],
   "source": [
    "# 7. Question: Write a function that returns the number of words in a string.\n",
    "\n",
    "sentence = \"The quick brown fox i\"\n",
    "\n",
    "def n_words(w):\n",
    "    return len(list(w.split(\" \")))\n",
    "\n",
    "n_words(sentence)\n"
   ]
  },
  {
   "cell_type": "code",
   "execution_count": null,
   "metadata": {},
   "outputs": [],
   "source": []
  }
 ],
 "metadata": {
  "kernelspec": {
   "display_name": "venv",
   "language": "python",
   "name": "python3"
  },
  "language_info": {
   "codemirror_mode": {
    "name": "ipython",
    "version": 3
   },
   "file_extension": ".py",
   "mimetype": "text/x-python",
   "name": "python",
   "nbconvert_exporter": "python",
   "pygments_lexer": "ipython3",
   "version": "3.11.4"
  }
 },
 "nbformat": 4,
 "nbformat_minor": 2
}
